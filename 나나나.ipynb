{
  "nbformat": 4,
  "nbformat_minor": 0,
  "metadata": {
    "colab": {
      "provenance": [],
      "authorship_tag": "ABX9TyO3WykXEc3A4CYBRuuaNeV8",
      "include_colab_link": true
    },
    "kernelspec": {
      "name": "ir",
      "display_name": "R"
    },
    "language_info": {
      "name": "R"
    }
  },
  "cells": [
    {
      "cell_type": "markdown",
      "metadata": {
        "id": "view-in-github",
        "colab_type": "text"
      },
      "source": [
        "<a href=\"https://colab.research.google.com/github/yyulS2/python/blob/main/%EB%82%98%EB%82%98%EB%82%98.ipynb\" target=\"_parent\"><img src=\"https://colab.research.google.com/assets/colab-badge.svg\" alt=\"Open In Colab\"/></a>"
      ]
    },
    {
      "cell_type": "markdown",
      "source": [
        "나나나나나나"
      ],
      "metadata": {
        "id": "cH9Gl9Py-uS_"
      }
    },
    {
      "cell_type": "code",
      "source": [],
      "metadata": {
        "id": "7t-AfhPK-uCO"
      },
      "execution_count": null,
      "outputs": []
    },
    {
      "cell_type": "code",
      "source": [
        "library(MASS)"
      ],
      "metadata": {
        "id": "wKuZ3_Ml-p0n"
      },
      "execution_count": 2,
      "outputs": []
    }
  ]
}